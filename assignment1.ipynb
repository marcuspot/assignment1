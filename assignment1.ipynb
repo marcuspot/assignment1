{
 "cells": [
  {
   "cell_type": "code",
   "execution_count": 1,
   "metadata": {},
   "outputs": [],
   "source": [
    "import nltk\n",
    "from nltk.corpus import PlaintextCorpusReader"
   ]
  },
  {
   "cell_type": "code",
   "execution_count": 2,
   "metadata": {},
   "outputs": [],
   "source": [
    "corpus_root = './corpus'\n",
    "articles =  PlaintextCorpusReader(corpus_root, '.*', encoding=\"utf8\")\n",
    "\n",
    "nyt_words = articles.words('nyt.txt')\n",
    "guardian_words = articles.words('guardian.txt')\n",
    "gpt_words = articles.words('gpt.txt')"
   ]
  },
  {
   "cell_type": "code",
   "execution_count": 3,
   "metadata": {},
   "outputs": [
    {
     "name": "stdout",
     "output_type": "stream",
     "text": [
      "NYT word count:  9163\n",
      "Guardian word count:  17808\n",
      "chatGPT word count:  7889\n"
     ]
    }
   ],
   "source": [
    "print(\"NYT word count: \", len(nyt_words))\n",
    "print(\"Guardian word count: \", len(guardian_words))\n",
    "print(\"chatGPT word count: \", len(gpt_words))"
   ]
  },
  {
   "cell_type": "code",
   "execution_count": 4,
   "metadata": {},
   "outputs": [
    {
     "name": "stdout",
     "output_type": "stream",
     "text": [
      "NYT lexical diversity:  0.2541743970315399\n",
      "Guardian lexical diversity:  0.22310197663971248\n",
      "chatGPT lexical diversity:  0.22740524781341107\n"
     ]
    }
   ],
   "source": [
    "def lexical_diversity(text):\n",
    "    return len(set(text)) / len((text))\n",
    "\n",
    "print(\"NYT lexical diversity: \", lexical_diversity(nyt_words))\n",
    "print(\"Guardian lexical diversity: \", lexical_diversity(guardian_words))\n",
    "print(\"chatGPT lexical diversity: \", lexical_diversity(gpt_words))"
   ]
  },
  {
   "cell_type": "code",
   "execution_count": 5,
   "metadata": {},
   "outputs": [
    {
     "name": "stdout",
     "output_type": "stream",
     "text": [
      "NYT longest sentence:  When Mr . Trump ’ s efforts to overturn the election results were rejected at every turn by state officials and judges , Mr . Trump was told , incorrectly , that the vice president could stop the final validation of the election of President - elect Joseph R . Biden Jr . in his role as president of the Senate presiding over the Electoral College count . \n",
      "Sentence length:  68\n",
      "\n",
      "Guardian longest sentence:  Roland Griffiths , one of the world ’ s leading researchers of mood - altering drugs , and the man most responsible for getting the diagnosis of \" caffeine withdrawal \" included in the Diagnostic and Statistical Manual of Mental Disorders ( DSM - 5 ), the bible of psychiatric diagnoses , told me he hadn ’ t begun to understand his own relationship with caffeine until he stopped using it and conducted a series of self - experiments . \n",
      "Sentence length:  80\n",
      "\n",
      "chatGPT longest sentence:  The Rich vs The Very , Very Rich : The Wentworth Golf Club Rebellion Wentworth golf club , located in the affluent suburb of Virginia Water , Surrey , has long been a symbol of the British establishment , with its well - manicured greens , stately clubhouse and a members ' list dotted with aristocrats and celebrities . \n",
      "Sentence length:  59\n"
     ]
    }
   ],
   "source": [
    "nyt_sents = articles.sents('nyt.txt')\n",
    "guardian_sents = articles.sents('guardian.txt')\n",
    "gpt_sents = articles.sents('gpt.txt')\n",
    "\n",
    "def longestSentence(text):\n",
    "    longest_len = max(len(s) for s in text)\n",
    "    for s in text:\n",
    "        if len(s)==longest_len:\n",
    "            longest_sents = s\n",
    "    return longest_sents\n",
    "\n",
    "nytLongestSents = longestSentence(nyt_sents)\n",
    "guardianLongestSents = longestSentence(guardian_sents)\n",
    "gptLongestSents = longestSentence(gpt_sents)\n",
    "\n",
    "def printSentence(sentence):\n",
    "    readableSentence = str()\n",
    "    for s in sentence:\n",
    "        readableSentence += s + ' '\n",
    "    return readableSentence\n",
    "\n",
    "print(\"NYT longest sentence: \", printSentence(nytLongestSents))\n",
    "print(\"Sentence length: \", len(nytLongestSents))\n",
    "\n",
    "print(\"\\nGuardian longest sentence: \", printSentence(guardianLongestSents))\n",
    "print(\"Sentence length: \", len(guardianLongestSents))\n",
    "\n",
    "print(\"\\nchatGPT longest sentence: \", printSentence(gptLongestSents))\n",
    "print(\"Sentence length: \", len(gptLongestSents))"
   ]
  },
  {
   "cell_type": "code",
   "execution_count": 6,
   "metadata": {},
   "outputs": [
    {
     "name": "stdout",
     "output_type": "stream",
     "text": [
      "NYT collocations:  ['Proud Boys', 'vice president', 'mental health', 'Oval Office', 'social media', 'New York', 'White House', 'head coach', 'Mike Pence', 'last year', 'York Times', 'Vice President', 'Bay Buccaneers', 'Super Bowl', 'Telegram channel', 'Tampa Bay', 'Halyna Hutchins', 'even though', 'Telegram channels', 'Bonanza Creek']\n",
      "\n",
      "Guardian collocations:  ['Yan Bin', 'Red Bull', 'wheel well', 'Wet Feet', 'Jomo Kenyatta', 'landing gear', 'TCP Group', 'Wentworth Estate', 'Paul Manyasi', 'Kenyatta International', 'Offerton Road', 'joint venture', 'energy drinks', 'wheel wells', 'drinks industry', 'Airways flight', 'Kenya Airways', 'South Africa', 'Kenyatta airport', 'brain damage']\n",
      "\n",
      "chatGPT collocations:  ['Proud Boys', 'January 6th', 'mental health', 'New York', 'head coach', 'Vice President', 'Golf Club', 'Hill riots', 'election results', 'Capitol attack', 'former president', 'many people', 'invisible addiction', 'Total Failure', 'hair stylist', 'potential harm', 'unlike anything', 'President Donald', 'Wentworth Golf', 'Capitol Hill']\n"
     ]
    }
   ],
   "source": [
    "nyt = nltk.Text(articles.words('nyt.txt'))\n",
    "guardian = nltk.Text(articles.words('guardian.txt'))\n",
    "gpt = nltk.Text(articles.words('gpt.txt'))\n",
    "\n",
    "def printCollacations(text):\n",
    "    collocationwords = list()\n",
    "    for item in text:\n",
    "        newitem=item[0]+\" \"+item[1]\n",
    "        collocationwords.append(newitem)\n",
    "    return collocationwords\n",
    "\n",
    "print(\"NYT collocations: \", printCollacations(nyt.collocation_list()))\n",
    "print(\"\\nGuardian collocations: \", printCollacations(guardian.collocation_list()))\n",
    "print(\"\\nchatGPT collocations: \", printCollacations(gpt.collocation_list()))"
   ]
  },
  {
   "cell_type": "code",
   "execution_count": 7,
   "metadata": {},
   "outputs": [
    {
     "name": "stdout",
     "output_type": "stream",
     "text": [
      "NYT top ten vowel words:  [('and', 197), ('a', 191), ('an', 38), ('as', 36), ('at', 29), ('are', 21), ('about', 20), ('also', 14), ('all', 11), ('after', 10)]\n",
      "[('emails', 13), ('election', 11), ('even', 7), ('email', 7), ('early', 6), ('every', 5), ('executive', 5), ('earlier', 4), ('efforts', 3), ('entered', 3)]\n",
      "[('in', 136), ('it', 46), ('is', 37), ('into', 14), ('its', 9), ('investigation', 8), ('including', 7), ('if', 6), ('interview', 3), ('includes', 3)]\n",
      "[('of', 194), ('on', 74), ('or', 27), ('office', 19), ('out', 16), ('one', 16), ('our', 14), ('other', 9), ('over', 8), ('officials', 6)]\n",
      "[('up', 15), ('us', 12), ('used', 8), ('urged', 5), ('use', 5), ('until', 4), ('ultimately', 3), ('using', 3), ('understand', 2), ('under', 2)]\n",
      "\n",
      "Guardian top ten vowel words:  [('a', 376), ('and', 361), ('as', 91), ('at', 66), ('an', 62), ('after', 34), ('all', 34), ('are', 33), ('about', 32), ('airport', 20)]\n",
      "[('energy', 12), ('even', 9), ('enough', 7), ('each', 7), ('eventually', 7), ('estate', 7), ('every', 6), ('end', 5), ('embassy', 5), ('especially', 5)]\n",
      "[('in', 284), ('it', 125), ('is', 110), ('its', 39), ('into', 37), ('if', 26), ('itself', 7), ('information', 5), ('imagine', 5), ('identify', 4)]\n",
      "[('of', 423), ('on', 114), ('or', 43), ('one', 33), ('out', 33), ('only', 21), ('other', 17), ('old', 14), ('our', 14), ('over', 13)]\n",
      "[('up', 46), ('us', 15), ('used', 7), ('usually', 6), ('using', 6), ('unit', 5), ('use', 5), ('under', 4), ('understand', 4), ('until', 3)]\n",
      "\n",
      "chatGPT top ten vowel words:  [('and', 275), ('a', 220), ('as', 48), ('are', 31), ('an', 17), ('also', 16), ('about', 16), ('at', 12), ('any', 9), ('aftermath', 7)]\n",
      "[('emails', 12), ('even', 11), ('election', 8), ('energy', 7), ('events', 6), ('effects', 5), ('exclusive', 4), ('expressed', 3), ('example', 3), ('early', 3)]\n",
      "[('in', 122), ('is', 72), ('it', 60), ('its', 22), ('into', 9), ('investigation', 9), ('incident', 8), ('individuals', 7), ('importance', 6), ('important', 6)]\n",
      "[('of', 245), ('on', 45), ('one', 23), ('or', 19), ('our', 9), ('others', 8), ('once', 7), ('over', 7), ('often', 7), ('other', 6)]\n",
      "[('up', 12), ('used', 7), ('us', 6), ('use', 4), ('under', 3), ('using', 3), ('uncertainty', 3), ('unlike', 3), ('upon', 2), ('unsolved', 2)]\n"
     ]
    }
   ],
   "source": [
    "def topVowelWords(text, vowel):\n",
    "    vowelWords = [w for w in text if w.startswith(vowel)]\n",
    "    return nltk.FreqDist(vowelWords).most_common(10)\n",
    "\n",
    "print(\"NYT top ten vowel words: \", topVowelWords(nyt, 'a'))\n",
    "print(topVowelWords(nyt, 'e'))\n",
    "print(topVowelWords(nyt, 'i'))\n",
    "print(topVowelWords(nyt, 'o'))\n",
    "print(topVowelWords(nyt, 'u'))\n",
    "\n",
    "print(\"\\nGuardian top ten vowel words: \", topVowelWords(guardian, 'a'))\n",
    "print(topVowelWords(guardian, 'e'))\n",
    "print(topVowelWords(guardian, 'i'))\n",
    "print(topVowelWords(guardian, 'o'))\n",
    "print(topVowelWords(guardian, 'u'))\n",
    "\n",
    "print(\"\\nchatGPT top ten vowel words: \", topVowelWords(gpt, 'a'))\n",
    "print(topVowelWords(gpt, 'e'))\n",
    "print(topVowelWords(gpt, 'i'))\n",
    "print(topVowelWords(gpt, 'o'))\n",
    "print(topVowelWords(gpt, 'u'))"
   ]
  },
  {
   "cell_type": "code",
   "execution_count": 8,
   "metadata": {},
   "outputs": [
    {
     "name": "stdout",
     "output_type": "stream",
     "text": [
      "NYT stemmed sentence:  when mr . trump ’ s effort to overturn the elect result were reject at everi turn by state offici and judg , mr . trump was told , incorrect , that the vice presid could stop the final valid of the elect of presid - elect joseph r . biden jr . in his role as presid of the senat presid over the elector colleg count . \n",
      "\n",
      "Guardian stemmed sentence:  roland griffith , one of the world ’ s lead research of mood - alter drug , and the man most respons for get the diagnosi of \" caffein withdraw \" includ in the diagnost and statist manual of mental disord ( dsm - 5 ), the bibl of psychiatr diagnos , told me he hadn ’ t begun to understand his own relationship with caffein until he stop use it and conduct a seri of self - experi . \n",
      "\n",
      "chatGPT stemmed sentence:  the rich vs the veri , veri rich : the wentworth golf club rebellion wentworth golf club , locat in the affluent suburb of virginia water , surrey , has long been a symbol of the british establish , with it well - manicur green , state clubhous and a member ' list dot with aristocrat and celebr . \n"
     ]
    }
   ],
   "source": [
    "snowball = nltk.SnowballStemmer(language='english')\n",
    "\n",
    "nytStemmed = [snowball.stem(w) for w in nytLongestSents]\n",
    "guardianStemmed = [snowball.stem(w) for w in guardianLongestSents]\n",
    "gptStemmed = [snowball.stem(w) for w in gptLongestSents]\n",
    "\n",
    "print(\"NYT stemmed sentence: \", printSentence(nytStemmed))\n",
    "print(\"\\nGuardian stemmed sentence: \", printSentence(guardianStemmed))\n",
    "print(\"\\nchatGPT stemmed sentence: \", printSentence(gptStemmed))\n"
   ]
  }
 ],
 "metadata": {
  "kernelspec": {
   "display_name": "base",
   "language": "python",
   "name": "python3"
  },
  "language_info": {
   "codemirror_mode": {
    "name": "ipython",
    "version": 3
   },
   "file_extension": ".py",
   "mimetype": "text/x-python",
   "name": "python",
   "nbconvert_exporter": "python",
   "pygments_lexer": "ipython3",
   "version": "3.9.13"
  },
  "orig_nbformat": 4,
  "vscode": {
   "interpreter": {
    "hash": "0cf251981ad7aff3840afbed7b658416e40ff80f525d39eb1ff37fe199cc70df"
   }
  }
 },
 "nbformat": 4,
 "nbformat_minor": 2
}
